{
 "cells": [
  {
   "cell_type": "markdown",
   "id": "fe492d18",
   "metadata": {},
   "source": [
    "# Tanmay Chavan\n",
    "\n",
    "# HDSC Spring '23 - Stage C\n",
    "\n",
    "# Machine Learning: Classification"
   ]
  },
  {
   "cell_type": "code",
   "execution_count": 1,
   "id": "89481f15",
   "metadata": {},
   "outputs": [],
   "source": [
    "\n",
    "#Import all necessary libraries\n",
    "\n",
    "import pandas as pd\n",
    "import numpy as np                            #mathematical operation\n",
    "import matplotlib.pyplot as plt               #data visualisation\n",
    "import seaborn as sns                         #data visualisation\n",
    "\n",
    "from sklearn.preprocessing import StandardScaler\n",
    "from sklearn.preprocessing import MinMaxScaler             #used for normalising dataset into a common scale using Min and Max.\n",
    "from sklearn.model_selection import train_test_split       #used for splitting dataset into training and testing df\n",
    "\n",
    "from sklearn.preprocessing import LabelEncoder\n",
    "from pandas.core.common import random_state\n",
    "\n",
    "import lightgbm as ltb\n",
    "from xgboost import XGBClassifier\n",
    "from sklearn.model_selection import RandomizedSearchCV\n",
    "from sklearn.ensemble import RandomForestClassifier, ExtraTreesClassifier \n",
    "\n",
    "from sklearn.metrics import recall_score, accuracy_score, precision_score, f1_score, confusion_matrix "
   ]
  },
  {
   "cell_type": "code",
   "execution_count": 2,
   "id": "1bacdf6d",
   "metadata": {},
   "outputs": [],
   "source": [
    "electric_df = pd.read_csv(\"electric.csv\",sep=',')"
   ]
  },
  {
   "cell_type": "code",
   "execution_count": 3,
   "id": "dd3fa342",
   "metadata": {},
   "outputs": [
    {
     "data": {
      "text/html": [
       "<div>\n",
       "<style scoped>\n",
       "    .dataframe tbody tr th:only-of-type {\n",
       "        vertical-align: middle;\n",
       "    }\n",
       "\n",
       "    .dataframe tbody tr th {\n",
       "        vertical-align: top;\n",
       "    }\n",
       "\n",
       "    .dataframe thead th {\n",
       "        text-align: right;\n",
       "    }\n",
       "</style>\n",
       "<table border=\"1\" class=\"dataframe\">\n",
       "  <thead>\n",
       "    <tr style=\"text-align: right;\">\n",
       "      <th></th>\n",
       "      <th>0</th>\n",
       "      <th>1</th>\n",
       "      <th>2</th>\n",
       "      <th>3</th>\n",
       "      <th>4</th>\n",
       "    </tr>\n",
       "  </thead>\n",
       "  <tbody>\n",
       "    <tr>\n",
       "      <th>tau1</th>\n",
       "      <td>2.95906</td>\n",
       "      <td>9.304097</td>\n",
       "      <td>8.971707</td>\n",
       "      <td>0.716415</td>\n",
       "      <td>3.134112</td>\n",
       "    </tr>\n",
       "    <tr>\n",
       "      <th>tau2</th>\n",
       "      <td>3.079885</td>\n",
       "      <td>4.902524</td>\n",
       "      <td>8.848428</td>\n",
       "      <td>7.6696</td>\n",
       "      <td>7.608772</td>\n",
       "    </tr>\n",
       "    <tr>\n",
       "      <th>tau3</th>\n",
       "      <td>8.381025</td>\n",
       "      <td>3.047541</td>\n",
       "      <td>3.046479</td>\n",
       "      <td>4.486641</td>\n",
       "      <td>4.943759</td>\n",
       "    </tr>\n",
       "    <tr>\n",
       "      <th>tau4</th>\n",
       "      <td>9.780754</td>\n",
       "      <td>1.369357</td>\n",
       "      <td>1.214518</td>\n",
       "      <td>2.340563</td>\n",
       "      <td>9.857573</td>\n",
       "    </tr>\n",
       "    <tr>\n",
       "      <th>p1</th>\n",
       "      <td>3.763085</td>\n",
       "      <td>5.067812</td>\n",
       "      <td>3.405158</td>\n",
       "      <td>3.963791</td>\n",
       "      <td>3.525811</td>\n",
       "    </tr>\n",
       "    <tr>\n",
       "      <th>p2</th>\n",
       "      <td>-0.782604</td>\n",
       "      <td>-1.940058</td>\n",
       "      <td>-1.207456</td>\n",
       "      <td>-1.027473</td>\n",
       "      <td>-1.125531</td>\n",
       "    </tr>\n",
       "    <tr>\n",
       "      <th>p3</th>\n",
       "      <td>-1.257395</td>\n",
       "      <td>-1.872742</td>\n",
       "      <td>-1.27721</td>\n",
       "      <td>-1.938944</td>\n",
       "      <td>-1.845975</td>\n",
       "    </tr>\n",
       "    <tr>\n",
       "      <th>p4</th>\n",
       "      <td>-1.723086</td>\n",
       "      <td>-1.255012</td>\n",
       "      <td>-0.920492</td>\n",
       "      <td>-0.997374</td>\n",
       "      <td>-0.554305</td>\n",
       "    </tr>\n",
       "    <tr>\n",
       "      <th>g1</th>\n",
       "      <td>0.650456</td>\n",
       "      <td>0.413441</td>\n",
       "      <td>0.163041</td>\n",
       "      <td>0.446209</td>\n",
       "      <td>0.79711</td>\n",
       "    </tr>\n",
       "    <tr>\n",
       "      <th>g2</th>\n",
       "      <td>0.859578</td>\n",
       "      <td>0.862414</td>\n",
       "      <td>0.766689</td>\n",
       "      <td>0.976744</td>\n",
       "      <td>0.45545</td>\n",
       "    </tr>\n",
       "    <tr>\n",
       "      <th>g3</th>\n",
       "      <td>0.887445</td>\n",
       "      <td>0.562139</td>\n",
       "      <td>0.839444</td>\n",
       "      <td>0.929381</td>\n",
       "      <td>0.656947</td>\n",
       "    </tr>\n",
       "    <tr>\n",
       "      <th>g4</th>\n",
       "      <td>0.958034</td>\n",
       "      <td>0.78176</td>\n",
       "      <td>0.109853</td>\n",
       "      <td>0.362718</td>\n",
       "      <td>0.820923</td>\n",
       "    </tr>\n",
       "    <tr>\n",
       "      <th>stab</th>\n",
       "      <td>0.055347</td>\n",
       "      <td>-0.005957</td>\n",
       "      <td>0.003471</td>\n",
       "      <td>0.028871</td>\n",
       "      <td>0.04986</td>\n",
       "    </tr>\n",
       "    <tr>\n",
       "      <th>stabf</th>\n",
       "      <td>unstable</td>\n",
       "      <td>stable</td>\n",
       "      <td>unstable</td>\n",
       "      <td>unstable</td>\n",
       "      <td>unstable</td>\n",
       "    </tr>\n",
       "  </tbody>\n",
       "</table>\n",
       "</div>"
      ],
      "text/plain": [
       "              0         1         2         3         4\n",
       "tau1    2.95906  9.304097  8.971707  0.716415  3.134112\n",
       "tau2   3.079885  4.902524  8.848428    7.6696  7.608772\n",
       "tau3   8.381025  3.047541  3.046479  4.486641  4.943759\n",
       "tau4   9.780754  1.369357  1.214518  2.340563  9.857573\n",
       "p1     3.763085  5.067812  3.405158  3.963791  3.525811\n",
       "p2    -0.782604 -1.940058 -1.207456 -1.027473 -1.125531\n",
       "p3    -1.257395 -1.872742  -1.27721 -1.938944 -1.845975\n",
       "p4    -1.723086 -1.255012 -0.920492 -0.997374 -0.554305\n",
       "g1     0.650456  0.413441  0.163041  0.446209   0.79711\n",
       "g2     0.859578  0.862414  0.766689  0.976744   0.45545\n",
       "g3     0.887445  0.562139  0.839444  0.929381  0.656947\n",
       "g4     0.958034   0.78176  0.109853  0.362718  0.820923\n",
       "stab   0.055347 -0.005957  0.003471  0.028871   0.04986\n",
       "stabf  unstable    stable  unstable  unstable  unstable"
      ]
     },
     "execution_count": 3,
     "metadata": {},
     "output_type": "execute_result"
    }
   ],
   "source": [
    "electric_df.head().T"
   ]
  },
  {
   "cell_type": "code",
   "execution_count": 4,
   "id": "7b38012b",
   "metadata": {},
   "outputs": [
    {
     "data": {
      "text/plain": [
       "(10000, 14)"
      ]
     },
     "execution_count": 4,
     "metadata": {},
     "output_type": "execute_result"
    }
   ],
   "source": [
    "electric_df.shape"
   ]
  },
  {
   "cell_type": "code",
   "execution_count": 5,
   "id": "8f8df6a0",
   "metadata": {},
   "outputs": [
    {
     "data": {
      "text/plain": [
       "tau1     0\n",
       "tau2     0\n",
       "tau3     0\n",
       "tau4     0\n",
       "p1       0\n",
       "p2       0\n",
       "p3       0\n",
       "p4       0\n",
       "g1       0\n",
       "g2       0\n",
       "g3       0\n",
       "g4       0\n",
       "stab     0\n",
       "stabf    0\n",
       "dtype: int64"
      ]
     },
     "execution_count": 5,
     "metadata": {},
     "output_type": "execute_result"
    }
   ],
   "source": [
    "electric_df.isna().sum()"
   ]
  },
  {
   "cell_type": "markdown",
   "id": "b7b1b37a",
   "metadata": {},
   "source": [
    "As indicated from the \"*Instructions for Tag-Along Project*\" the direct relationship between 'stab' and 'stabf' is that;\n",
    "\n",
    "'stabf' = 'stable' if 'stab' <= 0, 'unstable' otherwise!\n",
    "Thus, 'stab' should be dropped and 'stabf' will remain as the sole dependent variable (binary classification)."
   ]
  },
  {
   "cell_type": "code",
   "execution_count": 6,
   "id": "a4fa5506",
   "metadata": {},
   "outputs": [],
   "source": [
    "electric_df.drop(\"stab\", axis=1, inplace=True)"
   ]
  },
  {
   "cell_type": "code",
   "execution_count": 7,
   "id": "1a889d6d",
   "metadata": {},
   "outputs": [
    {
     "data": {
      "text/html": [
       "<div>\n",
       "<style scoped>\n",
       "    .dataframe tbody tr th:only-of-type {\n",
       "        vertical-align: middle;\n",
       "    }\n",
       "\n",
       "    .dataframe tbody tr th {\n",
       "        vertical-align: top;\n",
       "    }\n",
       "\n",
       "    .dataframe thead th {\n",
       "        text-align: right;\n",
       "    }\n",
       "</style>\n",
       "<table border=\"1\" class=\"dataframe\">\n",
       "  <thead>\n",
       "    <tr style=\"text-align: right;\">\n",
       "      <th></th>\n",
       "      <th>tau1</th>\n",
       "      <th>tau2</th>\n",
       "      <th>tau3</th>\n",
       "      <th>tau4</th>\n",
       "      <th>p1</th>\n",
       "      <th>p2</th>\n",
       "      <th>p3</th>\n",
       "      <th>p4</th>\n",
       "      <th>g1</th>\n",
       "      <th>g2</th>\n",
       "      <th>g3</th>\n",
       "      <th>g4</th>\n",
       "      <th>stabf</th>\n",
       "    </tr>\n",
       "  </thead>\n",
       "  <tbody>\n",
       "    <tr>\n",
       "      <th>0</th>\n",
       "      <td>2.959060</td>\n",
       "      <td>3.079885</td>\n",
       "      <td>8.381025</td>\n",
       "      <td>9.780754</td>\n",
       "      <td>3.763085</td>\n",
       "      <td>-0.782604</td>\n",
       "      <td>-1.257395</td>\n",
       "      <td>-1.723086</td>\n",
       "      <td>0.650456</td>\n",
       "      <td>0.859578</td>\n",
       "      <td>0.887445</td>\n",
       "      <td>0.958034</td>\n",
       "      <td>unstable</td>\n",
       "    </tr>\n",
       "    <tr>\n",
       "      <th>1</th>\n",
       "      <td>9.304097</td>\n",
       "      <td>4.902524</td>\n",
       "      <td>3.047541</td>\n",
       "      <td>1.369357</td>\n",
       "      <td>5.067812</td>\n",
       "      <td>-1.940058</td>\n",
       "      <td>-1.872742</td>\n",
       "      <td>-1.255012</td>\n",
       "      <td>0.413441</td>\n",
       "      <td>0.862414</td>\n",
       "      <td>0.562139</td>\n",
       "      <td>0.781760</td>\n",
       "      <td>stable</td>\n",
       "    </tr>\n",
       "    <tr>\n",
       "      <th>2</th>\n",
       "      <td>8.971707</td>\n",
       "      <td>8.848428</td>\n",
       "      <td>3.046479</td>\n",
       "      <td>1.214518</td>\n",
       "      <td>3.405158</td>\n",
       "      <td>-1.207456</td>\n",
       "      <td>-1.277210</td>\n",
       "      <td>-0.920492</td>\n",
       "      <td>0.163041</td>\n",
       "      <td>0.766689</td>\n",
       "      <td>0.839444</td>\n",
       "      <td>0.109853</td>\n",
       "      <td>unstable</td>\n",
       "    </tr>\n",
       "    <tr>\n",
       "      <th>3</th>\n",
       "      <td>0.716415</td>\n",
       "      <td>7.669600</td>\n",
       "      <td>4.486641</td>\n",
       "      <td>2.340563</td>\n",
       "      <td>3.963791</td>\n",
       "      <td>-1.027473</td>\n",
       "      <td>-1.938944</td>\n",
       "      <td>-0.997374</td>\n",
       "      <td>0.446209</td>\n",
       "      <td>0.976744</td>\n",
       "      <td>0.929381</td>\n",
       "      <td>0.362718</td>\n",
       "      <td>unstable</td>\n",
       "    </tr>\n",
       "    <tr>\n",
       "      <th>4</th>\n",
       "      <td>3.134112</td>\n",
       "      <td>7.608772</td>\n",
       "      <td>4.943759</td>\n",
       "      <td>9.857573</td>\n",
       "      <td>3.525811</td>\n",
       "      <td>-1.125531</td>\n",
       "      <td>-1.845975</td>\n",
       "      <td>-0.554305</td>\n",
       "      <td>0.797110</td>\n",
       "      <td>0.455450</td>\n",
       "      <td>0.656947</td>\n",
       "      <td>0.820923</td>\n",
       "      <td>unstable</td>\n",
       "    </tr>\n",
       "  </tbody>\n",
       "</table>\n",
       "</div>"
      ],
      "text/plain": [
       "       tau1      tau2      tau3      tau4        p1        p2        p3  \\\n",
       "0  2.959060  3.079885  8.381025  9.780754  3.763085 -0.782604 -1.257395   \n",
       "1  9.304097  4.902524  3.047541  1.369357  5.067812 -1.940058 -1.872742   \n",
       "2  8.971707  8.848428  3.046479  1.214518  3.405158 -1.207456 -1.277210   \n",
       "3  0.716415  7.669600  4.486641  2.340563  3.963791 -1.027473 -1.938944   \n",
       "4  3.134112  7.608772  4.943759  9.857573  3.525811 -1.125531 -1.845975   \n",
       "\n",
       "         p4        g1        g2        g3        g4     stabf  \n",
       "0 -1.723086  0.650456  0.859578  0.887445  0.958034  unstable  \n",
       "1 -1.255012  0.413441  0.862414  0.562139  0.781760    stable  \n",
       "2 -0.920492  0.163041  0.766689  0.839444  0.109853  unstable  \n",
       "3 -0.997374  0.446209  0.976744  0.929381  0.362718  unstable  \n",
       "4 -0.554305  0.797110  0.455450  0.656947  0.820923  unstable  "
      ]
     },
     "execution_count": 7,
     "metadata": {},
     "output_type": "execute_result"
    }
   ],
   "source": [
    "electric_df.head()"
   ]
  },
  {
   "cell_type": "markdown",
   "id": "ed3195fd",
   "metadata": {},
   "source": [
    "Further Instructions:\n",
    "\n",
    "Split the data into 80-20 train-test split with a random state of “1”.\n",
    "Use the standard scaler to transform the train set (x_train, y_train) and the test set (x_test).\n",
    "Use scikit learn to train a random forest and extra trees classifier.\n",
    "And use xgboost and lightgbm to train an extreme boosting model and a light gradient boosting model.\n",
    "Use random_state = 1 for training all models and evaluate on the test set. Answer the following questions:"
   ]
  },
  {
   "cell_type": "code",
   "execution_count": 8,
   "id": "96c7a6bf",
   "metadata": {},
   "outputs": [],
   "source": [
    "\n",
    "#Let define our target and features variable\n",
    "\n",
    "X = electric_df.drop(\"stabf\", axis = 1)     # Features\n",
    "y = electric_df[\"stabf\"]                    # Target"
   ]
  },
  {
   "cell_type": "code",
   "execution_count": 9,
   "id": "35a2ab13",
   "metadata": {},
   "outputs": [],
   "source": [
    "#Split the data into an 80-20 train-test split with a random state of “1”\n",
    "\n",
    "x_train, x_test, y_train, y_test = train_test_split(X, y, train_size = 0.8, test_size = 0.2, random_state = 1)  # 80% training and 20% test"
   ]
  },
  {
   "cell_type": "code",
   "execution_count": 10,
   "id": "7a52cf2c",
   "metadata": {},
   "outputs": [],
   "source": [
    "#Use the standard scaler to transform the train set (x_train, y_train) and the test set (x_test)\n",
    "\n",
    "#Define standard scaler\n",
    "scaler = StandardScaler()\n",
    "\n",
    "#transform train set (x_train, y_train) \n",
    "transformed_train_df = scaler.fit_transform(x_train)\n",
    "transformed_train_df = pd.DataFrame(transformed_train_df, columns = x_train.columns)\n",
    "\n",
    "#transform test set (x_test)\n",
    "transformed_test_df = scaler.transform(x_test)\n",
    "transformed_test_df = pd.DataFrame(transformed_test_df,  columns = x_test.columns)"
   ]
  },
  {
   "cell_type": "code",
   "execution_count": 11,
   "id": "099d22c6",
   "metadata": {},
   "outputs": [
    {
     "name": "stdout",
     "output_type": "stream",
     "text": [
      "(8000, 12) (2000, 12)\n"
     ]
    }
   ],
   "source": [
    "print(transformed_train_df.shape, transformed_test_df.shape)"
   ]
  },
  {
   "cell_type": "markdown",
   "id": "a66c329e",
   "metadata": {},
   "source": [
    "# Question 17\n",
    "\n",
    "Using the ExtraTreesClassifier as your estimator with cv=5, n_iter=10, scoring = 'accuracy', n_jobs = -1, verbose = 1 and random_state = 1. What are the best hyperparameters from the randomized search CV?"
   ]
  },
  {
   "cell_type": "code",
   "execution_count": 12,
   "id": "ca854dfb",
   "metadata": {},
   "outputs": [
    {
     "name": "stdout",
     "output_type": "stream",
     "text": [
      "Fitting 5 folds for each of 10 candidates, totalling 50 fits\n"
     ]
    }
   ],
   "source": [
    "from sklearn.ensemble import RandomForestClassifier, ExtraTreesClassifier \n",
    "from sklearn.model_selection import RandomizedSearchCV\n",
    "\n",
    "# Define Extra Trees Classifier model\n",
    "extra_tree = ExtraTreesClassifier(random_state=1)\n",
    "\n",
    "# Parameters to try\n",
    "param = {\n",
    "    'n_estimators': [50, 100, 300, 500, 1000], \n",
    "    'min_samples_split': [2, 3, 5, 7, 9], \n",
    "    'min_samples_leaf': [1, 2, 4, 6, 8],\n",
    "    'max_features': ['sqrt', 'log2', None]  # Updated valid options for max_features\n",
    "}\n",
    "\n",
    "Random_Search = RandomizedSearchCV(\n",
    "    estimator=extra_tree,\n",
    "    param_distributions=param,\n",
    "    random_state=1,\n",
    "    n_iter=10,\n",
    "    cv=5,\n",
    "    scoring=\"accuracy\",\n",
    "    n_jobs=-1,\n",
    "    verbose=1\n",
    ")\n",
    "\n",
    "RandomSearchResults = Random_Search.fit(transformed_train_df, y_train)\n"
   ]
  },
  {
   "cell_type": "code",
   "execution_count": 13,
   "id": "01020d55",
   "metadata": {
    "scrolled": true
   },
   "outputs": [
    {
     "name": "stdout",
     "output_type": "stream",
     "text": [
      "Fitting 5 folds for each of 10 candidates, totalling 50 fits\n"
     ]
    }
   ],
   "source": [
    "#Fit the model\n",
    "RandomSearchResults = Random_Search.fit(transformed_train_df, y_train)"
   ]
  },
  {
   "cell_type": "code",
   "execution_count": 14,
   "id": "d3344080",
   "metadata": {},
   "outputs": [
    {
     "data": {
      "text/plain": [
       "{'n_estimators': 500,\n",
       " 'min_samples_split': 7,\n",
       " 'min_samples_leaf': 4,\n",
       " 'max_features': None}"
      ]
     },
     "execution_count": 14,
     "metadata": {},
     "output_type": "execute_result"
    }
   ],
   "source": [
    "#fetch the best hyperparameters\n",
    "\n",
    "RandomSearchResults.best_params_"
   ]
  },
  {
   "cell_type": "markdown",
   "id": "bdf0c523",
   "metadata": {},
   "source": [
    "# Question 16:\n",
    "What is the accuracy on the test set using the LGBM classifier? In 4 decimal places."
   ]
  },
  {
   "cell_type": "code",
   "execution_count": 15,
   "id": "c2cac9a4",
   "metadata": {
    "scrolled": true
   },
   "outputs": [
    {
     "name": "stdout",
     "output_type": "stream",
     "text": [
      "\n",
      "LGBMClassifier(random_state=1)\n"
     ]
    }
   ],
   "source": [
    "#LightGBM classifier \n",
    "\n",
    "#define model\n",
    "model = ltb.LGBMClassifier(random_state=1)\n",
    "\n",
    "#fit model\n",
    "model.fit(transformed_train_df, y_train)\n",
    "print(); print(model)\n",
    "\n",
    "#prediction\n",
    "predicted_y = model.predict(transformed_test_df)"
   ]
  },
  {
   "cell_type": "code",
   "execution_count": 16,
   "id": "53351f19",
   "metadata": {},
   "outputs": [
    {
     "name": "stdout",
     "output_type": "stream",
     "text": [
      "The LightGBM test set accuracy is:   0.9395\n"
     ]
    }
   ],
   "source": [
    "\n",
    "#LGBM classifier test set accuracy\n",
    "\n",
    "accuracy = accuracy_score(y_test, predicted_y)\n",
    "print(\"The LightGBM test set accuracy is:  \", round(accuracy, 4))"
   ]
  },
  {
   "cell_type": "markdown",
   "id": "1cb122a5",
   "metadata": {},
   "source": [
    "# Question 15:\n",
    "What is the accuracy on the test set using the XGboost classifier? In 4 decimal places."
   ]
  },
  {
   "cell_type": "code",
   "execution_count": 17,
   "id": "dbe5198c",
   "metadata": {},
   "outputs": [],
   "source": [
    "#Extreme Gradient Boost classifier (XGboost)\n",
    "from xgboost import XGBClassifier\n",
    "from sklearn.preprocessing import LabelEncoder\n",
    "\n",
    "# Create label encoder\n",
    "label_encoder = LabelEncoder()\n",
    "\n",
    "# Encode class labels\n",
    "encoded_y_train = label_encoder.fit_transform(y_train)\n",
    "\n",
    "# Define model\n",
    "xgb_model = XGBClassifier(random_state=1)\n",
    "\n",
    "# Fit model\n",
    "xgb_model.fit(transformed_train_df, encoded_y_train)\n",
    "\n",
    "# Make predictions\n",
    "xgb_predicted = xgb_model.predict(transformed_test_df)\n"
   ]
  },
  {
   "cell_type": "code",
   "execution_count": 18,
   "id": "b931d34b",
   "metadata": {},
   "outputs": [
    {
     "name": "stdout",
     "output_type": "stream",
     "text": [
      "The XGBoost test set accuracy is: 0.9455\n"
     ]
    }
   ],
   "source": [
    "#XGBoost accurarcy\n",
    "\n",
    "from sklearn.metrics import accuracy_score\n",
    "\n",
    "# Decode predicted labels\n",
    "decoded_xgb_predicted = label_encoder.inverse_transform(xgb_predicted)\n",
    "\n",
    "# Calculate accuracy\n",
    "xgb_accuracy = accuracy_score(y_test, decoded_xgb_predicted)\n",
    "\n",
    "print(\"The XGBoost test set accuracy is:\", round(xgb_accuracy, 4))\n"
   ]
  },
  {
   "cell_type": "markdown",
   "id": "8d964ddc",
   "metadata": {},
   "source": [
    "# Question 14:\n",
    "What is the accuracy on the test set using the random forest classifier? In 4 decimal places."
   ]
  },
  {
   "cell_type": "code",
   "execution_count": 19,
   "id": "83c09664",
   "metadata": {},
   "outputs": [
    {
     "name": "stdout",
     "output_type": "stream",
     "text": [
      "Accuracy: 0.929\n"
     ]
    }
   ],
   "source": [
    "#Create a Gaussian Classifier\n",
    "clf=RandomForestClassifier(random_state=1)\n",
    "\n",
    "#Train the model using the training sets y_pred=clf.predict(X_test)\n",
    "clf.fit(transformed_train_df, y_train)\n",
    "\n",
    "y_pred=clf.predict(transformed_test_df)\n",
    "     \n",
    "\n",
    "from sklearn import metrics\n",
    "\n",
    "acc = accuracy_score(y_pred, y_test)\n",
    "\n",
    "print(\"Accuracy:\",round(acc,5))"
   ]
  },
  {
   "cell_type": "markdown",
   "id": "1d58eb14",
   "metadata": {},
   "source": [
    "# Question 18:\n",
    "Train a new ExtraTreesClassifier Model with the new Hyperparameters from the RandomizedSearchCV (with random_state = 1). Is the accuracy of the new optimal model higher or lower than the initial ExtraTreesClassifier model with no hyperparameter tuning?"
   ]
  },
  {
   "cell_type": "code",
   "execution_count": 20,
   "id": "d836ea02",
   "metadata": {},
   "outputs": [],
   "source": [
    "\n",
    "#1- The new ExtraTreesClassifier Model with the new Hyperparameters from the RandomizedSearchCV (with random_state = 1)\n",
    "\n",
    "#Define model\n",
    "new_extra_model = ExtraTreesClassifier(random_state=1)\n",
    "\n",
    "#fit model\n",
    "new_extra_model.fit(transformed_train_df, y_train)\n",
    "\n",
    "#Predict model\n",
    "new_extra_predict = new_extra_model.predict(transformed_test_df)"
   ]
  },
  {
   "cell_type": "code",
   "execution_count": 21,
   "id": "e7e8ba1e",
   "metadata": {},
   "outputs": [
    {
     "name": "stdout",
     "output_type": "stream",
     "text": [
      "0.928\n"
     ]
    }
   ],
   "source": [
    "#Let evaluate the accuracy score matrix\n",
    "\n",
    "acc1 = accuracy_score(new_extra_predict, y_test)\n",
    "print(round(acc1,4))"
   ]
  },
  {
   "cell_type": "code",
   "execution_count": 22,
   "id": "69457bf0",
   "metadata": {},
   "outputs": [],
   "source": [
    "\n",
    "#2 - using the optimal model\n",
    "\n",
    "#Define model\n",
    "optimal_extra_model = ExtraTreesClassifier(n_estimators = 1000, min_samples_split = 2, min_samples_leaf = 8, max_features = None, random_state=1)\n",
    "\n",
    "#fit model\n",
    "optimal_extra_model.fit(transformed_train_df, y_train)\n",
    "\n",
    "#Predict model\n",
    "optimal_extra_predict = optimal_extra_model.predict(transformed_test_df)"
   ]
  },
  {
   "cell_type": "code",
   "execution_count": 23,
   "id": "08eea6b1",
   "metadata": {},
   "outputs": [
    {
     "name": "stdout",
     "output_type": "stream",
     "text": [
      "0.927\n"
     ]
    }
   ],
   "source": [
    "#Let evaluate the accuracy score matrix of the optimal model\n",
    "\n",
    "acc2 = accuracy_score(optimal_extra_predict, y_test)\n",
    "print(round(acc2,4))"
   ]
  },
  {
   "cell_type": "code",
   "execution_count": 24,
   "id": "ab8ec676",
   "metadata": {},
   "outputs": [
    {
     "name": "stdout",
     "output_type": "stream",
     "text": [
      "The accuracy of the new optimal model LOWER than the initial ExtraTreesClassifier model with no hyperparameter tuning\n"
     ]
    }
   ],
   "source": [
    "#let see which of the accuracy from acc1 and acc2 is the highest and lowest\n",
    "\n",
    "if acc1 < acc2:\n",
    "  print(\"The accuracy of the new optimal model HIGHER than the initial ExtraTreesClassifier model with no hyperparameter tuning\")\n",
    "else:\n",
    "  print(\"The accuracy of the new optimal model LOWER than the initial ExtraTreesClassifier model with no hyperparameter tuning\")\n"
   ]
  },
  {
   "cell_type": "markdown",
   "id": "ea66c1d4",
   "metadata": {},
   "source": [
    "# Question 20:\n",
    "Find the feature importance using the optimal ExtraTreesClassifier model. Which features are the most and least important respectively?"
   ]
  },
  {
   "cell_type": "code",
   "execution_count": 25,
   "id": "f16f5300",
   "metadata": {},
   "outputs": [
    {
     "name": "stdout",
     "output_type": "stream",
     "text": [
      "[(0.11844468079199041, 'tau2'), (0.11739736493320078, 'tau1'), (0.11546569217199552, 'tau4'), (0.11316851246674982, 'tau3'), (0.09688268324346265, 'g3'), (0.09401881529815702, 'g4'), (0.09367635844551439, 'g2'), (0.08978290601483987, 'g1'), (0.040706278296424536, 'p3'), (0.040578638540044426, 'p4'), (0.04037131556379323, 'p2'), (0.039506754233827476, 'p1')]\n"
     ]
    },
    {
     "data": {
      "image/png": "[encoded data removed]",
      "text/plain": [
       "<Figure size 640x480 with 1 Axes>"
      ]
     },
     "metadata": {},
     "output_type": "display_data"
    }
   ],
   "source": [
    "\n",
    "#Define Extra Trees Classifier model\n",
    "extra_tree = ExtraTreesClassifier(random_state = 1)\n",
    "extra_tree.fit(transformed_train_df, y_train)\n",
    "\n",
    "\n",
    "X = pd.DataFrame(X)\n",
    "print(sorted(zip(extra_tree.feature_importances_, X.columns), reverse=True))\n",
    "\n",
    "feature_importance = pd.Series(extra_tree.feature_importances_, index = X.columns)\n",
    "feature_importance.nlargest(40).plot(kind='barh')\n",
    "\n",
    "\n",
    "plt.title('Feature importances obtained from coefficients', size=15)\n",
    "plt.ylabel('Features')\n",
    "plt.xlabel('Values')\n",
    "plt.show()\n",
    "     "
   ]
  },
  {
   "cell_type": "code",
   "execution_count": 26,
   "id": "3cef8f5b",
   "metadata": {},
   "outputs": [
    {
     "data": {
      "text/plain": [
       "tau1    0.117397\n",
       "tau2    0.118445\n",
       "tau3    0.113169\n",
       "tau4    0.115466\n",
       "p1      0.039507\n",
       "p2      0.040371\n",
       "p3      0.040706\n",
       "p4      0.040579\n",
       "g1      0.089783\n",
       "g2      0.093676\n",
       "g3      0.096883\n",
       "g4      0.094019\n",
       "dtype: float64"
      ]
     },
     "execution_count": 26,
     "metadata": {},
     "output_type": "execute_result"
    }
   ],
   "source": [
    "\n",
    "feature_importance\n",
    "     "
   ]
  },
  {
   "cell_type": "code",
   "execution_count": 27,
   "id": "fc83d103",
   "metadata": {},
   "outputs": [
    {
     "name": "stdout",
     "output_type": "stream",
     "text": [
      "0.11844468079199041\n"
     ]
    }
   ],
   "source": [
    "# find the maximum of each column\n",
    "maxFeature = feature_importance.max(axis = 0)\n",
    " \n",
    "print(maxFeature)"
   ]
  },
  {
   "cell_type": "markdown",
   "id": "7cee70c9",
   "metadata": {},
   "source": [
    "Hence, the feature most important correspond with tau2"
   ]
  },
  {
   "cell_type": "code",
   "execution_count": 28,
   "id": "c48ea4c2",
   "metadata": {},
   "outputs": [
    {
     "name": "stdout",
     "output_type": "stream",
     "text": [
      "0.039506754233827476\n"
     ]
    }
   ],
   "source": [
    "# find the minimum of each column\n",
    "minFeature = feature_importance.min(axis = 0)\n",
    " \n",
    "print(minFeature)"
   ]
  },
  {
   "cell_type": "markdown",
   "id": "830d3693",
   "metadata": {},
   "source": [
    "Hence, the feature least important correspond with p1"
   ]
  },
  {
   "cell_type": "code",
   "execution_count": null,
   "id": "b2a99a6e",
   "metadata": {},
   "outputs": [],
   "source": []
  }
 ],
 "metadata": {
  "kernelspec": {
   "display_name": "Python 3 (ipykernel)",
   "language": "python",
   "name": "python3"
  },
  "language_info": {
   "codemirror_mode": {
    "name": "ipython",
    "version": 3
   },
   "file_extension": ".py",
   "mimetype": "text/x-python",
   "name": "python",
   "nbconvert_exporter": "python",
   "pygments_lexer": "ipython3",
   "version": "3.11.4"
  }
 },
 "nbformat": 4,
 "nbformat_minor": 5
}
